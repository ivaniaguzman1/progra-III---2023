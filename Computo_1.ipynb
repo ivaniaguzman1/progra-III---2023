{
  "nbformat": 4,
  "nbformat_minor": 0,
  "metadata": {
    "colab": {
      "provenance": [],
      "authorship_tag": "ABX9TyPBOUVyKUATbutfCZxm/86J",
      "include_colab_link": true
    },
    "kernelspec": {
      "name": "python3",
      "display_name": "Python 3"
    },
    "language_info": {
      "name": "python"
    }
  },
  "cells": [
    {
      "cell_type": "markdown",
      "metadata": {
        "id": "view-in-github",
        "colab_type": "text"
      },
      "source": [
        "<a href=\"https://colab.research.google.com/github/ivaniaguzman1/progra-III---2023/blob/main/Computo_1.ipynb\" target=\"_parent\"><img src=\"https://colab.research.google.com/assets/colab-badge.svg\" alt=\"Open In Colab\"/></a>"
      ]
    },
    {
      "cell_type": "markdown",
      "source": [
        "### Primera practica.\n",
        "(Ivania Lisbeth Matas Guzmán _ USSS005022)\n",
        "# Introducción a Python, declaración de variables\n"
      ],
      "metadata": {
        "id": "9j2h_bl5fUXp"
      }
    },
    {
      "cell_type": "code",
      "execution_count": null,
      "metadata": {
        "colab": {
          "base_uri": "https://localhost:8080/"
        },
        "id": "VPr7-XI0fKtq",
        "outputId": "0693f844-8e69-4962-fe2f-481b7f927aa9"
      },
      "outputs": [
        {
          "output_type": "stream",
          "name": "stdout",
          "text": [
            "Hola Mundo\n"
          ]
        }
      ],
      "source": [
        "saludo = \"Hola Mundo\"\n",
        "print(saludo)"
      ]
    },
    {
      "cell_type": "code",
      "source": [
        "num1 = 5\n",
        "num2 = 4.5\n",
        "resp = num1 + num2\n",
        "print(\"La suma de \", num1, \" + \", num2, \"=\", resp)"
      ],
      "metadata": {
        "colab": {
          "base_uri": "https://localhost:8080/"
        },
        "id": "XSX-tGqpfeck",
        "outputId": "b88374d6-f6cb-4cb4-9f0a-10a2af3d6442"
      },
      "execution_count": null,
      "outputs": [
        {
          "output_type": "stream",
          "name": "stdout",
          "text": [
            "La suma de  5  +  4.5 = 9.5\n"
          ]
        }
      ]
    },
    {
      "cell_type": "code",
      "source": [
        "name = \"Ivania Guzmán\"\n",
        "edad = 19\n",
        "saludo = \"Hola \"+ name + \", tu edad \"+ str(edad)\n",
        "print(saludo)"
      ],
      "metadata": {
        "colab": {
          "base_uri": "https://localhost:8080/"
        },
        "id": "CuzsIAJzfoJh",
        "outputId": "3e155781-1bd4-4c4b-ad59-338a7b04d122"
      },
      "execution_count": null,
      "outputs": [
        {
          "output_type": "stream",
          "name": "stdout",
          "text": [
            "Hola Ivania Guzmán, tu edad 19\n"
          ]
        }
      ]
    },
    {
      "cell_type": "code",
      "source": [
        "nombre = input(\"Dime tu nombre: \")\n",
        "edad = input(\"Tu Edad: \")\n",
        "saludo = \"Hola que tal \"+ nombre + \", tu edad: \"+ edad\n",
        "print(saludo)"
      ],
      "metadata": {
        "colab": {
          "base_uri": "https://localhost:8080/"
        },
        "id": "C6x5delCfvab",
        "outputId": "fd6d60d1-0488-4b98-eb29-d24d4c6ca80a"
      },
      "execution_count": null,
      "outputs": [
        {
          "output_type": "stream",
          "name": "stdout",
          "text": [
            "Dime tu nombre: Ivania\n",
            "Tu Edad: 19\n",
            "Hola que tal Ivania, tu edad: 19\n"
          ]
        }
      ]
    },
    {
      "cell_type": "code",
      "source": [
        "num1 = float(input(\"Num 1: \"))\n",
        "num2 = float(input(\"Num 2: \"))\n",
        "resp = num1 + num2\n",
        "print(\"La suma es: \", resp)"
      ],
      "metadata": {
        "colab": {
          "base_uri": "https://localhost:8080/"
        },
        "id": "vRebKolRf25b",
        "outputId": "bac70eb1-2a61-404b-aa9d-aa77dcd0f8dc"
      },
      "execution_count": null,
      "outputs": [
        {
          "output_type": "stream",
          "name": "stdout",
          "text": [
            "Num 1: 1\n",
            "Num 2: 2\n",
            "La suma es:  3.0\n"
          ]
        }
      ]
    },
    {
      "cell_type": "code",
      "source": [
        "def suma(num1, num2):\n",
        "  return num1 + num2"
      ],
      "metadata": {
        "id": "OZTRqWvqIDHf"
      },
      "execution_count": null,
      "outputs": []
    },
    {
      "cell_type": "code",
      "source": [
        "num1 = float(input(\"Num 1: \"))\n",
        "num2 = float(input(\"N4.26um 2: \"))\n",
        "resp = suma(num1, num2)\n",
        "print(resp)"
      ],
      "metadata": {
        "colab": {
          "base_uri": "https://localhost:8080/"
        },
        "id": "dye5dMENIH6o",
        "outputId": "d3309075-4442-4471-e86d-6deb5466073a"
      },
      "execution_count": null,
      "outputs": [
        {
          "output_type": "stream",
          "name": "stdout",
          "text": [
            "Num 1: 5\n",
            "N4.26um 2: 6\n",
            "11.0\n"
          ]
        }
      ]
    },
    {
      "cell_type": "markdown",
      "source": [
        "# FUNCIONES DE USUARIO\n",
        "Convertir grados Celcius a Farenheit"
      ],
      "metadata": {
        "id": "sF-lj6rsINMy"
      }
    },
    {
      "cell_type": "code",
      "source": [
        "def convertir_cf(c):\n",
        "  return 32 + c*9/5"
      ],
      "metadata": {
        "id": "TDHjehPhIXb6"
      },
      "execution_count": null,
      "outputs": []
    },
    {
      "cell_type": "code",
      "source": [
        "c = float(input(\"Celsius: \"))\n",
        "print(\"F: \", convertir_cf(c))"
      ],
      "metadata": {
        "colab": {
          "base_uri": "https://localhost:8080/"
        },
        "id": "eN3Gh2GIIeHZ",
        "outputId": "0725eb25-d4d9-4a3a-f747-99a3e79294c8"
      },
      "execution_count": null,
      "outputs": [
        {
          "output_type": "stream",
          "name": "stdout",
          "text": [
            "Celsius: 5\n",
            "F:  41.0\n"
          ]
        }
      ]
    },
    {
      "cell_type": "markdown",
      "source": [
        "# EJERCICIOS\n"
      ],
      "metadata": {
        "id": "3EzzeULxImct"
      }
    },
    {
      "cell_type": "markdown",
      "source": [
        "1. Convertir Farenheit a Celsius"
      ],
      "metadata": {
        "id": "z9KZW4EQPc1j"
      }
    },
    {
      "cell_type": "code",
      "source": [
        "def convertirf(r):\n",
        "  return (r - 32)*5/9\n",
        "  #Funcion que se encarga de convertir"
      ],
      "metadata": {
        "id": "K83vc-ucPafM"
      },
      "execution_count": null,
      "outputs": []
    },
    {
      "cell_type": "code",
      "source": [
        "r = float(input(\"Farenheit: \"))\n",
        "print(\"C: \",convertirf(r))"
      ],
      "metadata": {
        "colab": {
          "base_uri": "https://localhost:8080/"
        },
        "id": "nWcnZiwLPhi2",
        "outputId": "11c22648-470e-4775-ab31-4fe68604f746"
      },
      "execution_count": null,
      "outputs": [
        {
          "output_type": "stream",
          "name": "stdout",
          "text": [
            "Farenheit: 107.6\n",
            "C:  42.0\n"
          ]
        }
      ]
    },
    {
      "cell_type": "markdown",
      "source": [
        "2. Convertir de (Celsius, Farenheit) a Kelvin"
      ],
      "metadata": {
        "id": "9o3mFDjJPmRf"
      }
    },
    {
      "cell_type": "code",
      "source": [
        "def convertirk(k):\n",
        "  return k + 273.15\n",
        "  #Funcion que se encarga de convertir"
      ],
      "metadata": {
        "id": "0Zr7Zh1hPnCl"
      },
      "execution_count": null,
      "outputs": []
    },
    {
      "cell_type": "code",
      "source": [
        "k = float(input(\"Celsius: \"))\n",
        "print(\"K: \",convertirk(k))"
      ],
      "metadata": {
        "colab": {
          "base_uri": "https://localhost:8080/"
        },
        "id": "GEtptMehPqsT",
        "outputId": "a37ce60c-627e-4b6a-d5b7-91f4bdd76c8f"
      },
      "execution_count": null,
      "outputs": [
        {
          "output_type": "stream",
          "name": "stdout",
          "text": [
            "Celsius: 10\n",
            "K:  283.15\n"
          ]
        }
      ]
    },
    {
      "cell_type": "markdown",
      "source": [
        "# Calcular sueldo mensual"
      ],
      "metadata": {
        "id": "QZ3fCmnbI-ET"
      }
    },
    {
      "cell_type": "code",
      "source": [
        "def sueldo(numHrs, valorXhr):\n",
        "  sueldo = numHrs*valorXhr*30\n",
        "  if(numHrs>8):\n",
        "    sueldo += (numHrs-8)*valorXhr*2*30\n",
        "  #isss + afp = 3 + 6.25 = 9.25 = 100 - 9.25 = 90.75/100 = 0.9075\n",
        "  #sueldo = sueldo*0.9075\n",
        "  return sueldo"
      ],
      "metadata": {
        "id": "qouPcbv5JGao"
      },
      "execution_count": null,
      "outputs": []
    },
    {
      "cell_type": "code",
      "source": [
        "tabla_isr = [\n",
        "    [0.01, 472, 0, 0],\n",
        "    [472.01, 895.24, 0.1, 17.67],\n",
        "    [895.25, 2038.1, 0.2, 60.00],\n",
        "    [2038.11,9999999, 0.3, 288.57]\n",
        "]"
      ],
      "metadata": {
        "id": "aBsyiqUEJKCy"
      },
      "execution_count": null,
      "outputs": []
    },
    {
      "cell_type": "code",
      "source": [
        "def calcularIsr(sueldo, sueldoNeto):\n",
        "  impSr = 0\n",
        "  for tramo in tabla_isr:\n",
        "    if sueldo>tramo[0] and sueldo<=tramo[1]:\n",
        "      impSr = (sueldoNeto-tramo[0])*tramo[2] + tramo[3]\n",
        "  return impSr"
      ],
      "metadata": {
        "id": "uPOT8gJXJNBy"
      },
      "execution_count": null,
      "outputs": []
    },
    {
      "cell_type": "code",
      "source": [
        "valorXhr = 4\n",
        "#isss = 3%\n",
        "#afp = 6.25%\n",
        "numHrs = float(input(\"Horas trabajadas: \"))\n",
        "s = sueldo(numHrs, valorXhr)\n",
        "isr = calcularIsr(s, s*0.9075)\n",
        "print( \"Sueldo: \", s, \"ISR: \", isr, s*0.9075-isr )"
      ],
      "metadata": {
        "colab": {
          "base_uri": "https://localhost:8080/"
        },
        "id": "lbUyvnLiJTz9",
        "outputId": "fc7431fd-f240-4399-967a-f7a133b494d6"
      },
      "execution_count": null,
      "outputs": [
        {
          "output_type": "stream",
          "name": "stdout",
          "text": [
            "Horas trabajadas: 8\n",
            "Sueldo:  960.0 ISR:  55.18999999999998 816.01\n"
          ]
        }
      ]
    },
    {
      "cell_type": "markdown",
      "source": [
        "# Funciones LAMBDA\n",
        "FUNCIONES PRECONTRUIDAS MAP, FILTER, FIND, REDUCE, ETC."
      ],
      "metadata": {
        "id": "DrWrbSOsJYpw"
      }
    },
    {
      "cell_type": "code",
      "source": [
        "def elevarCuadrado(num):\n",
        "  return num**2"
      ],
      "metadata": {
        "id": "l_rou5VbJhk7"
      },
      "execution_count": null,
      "outputs": []
    },
    {
      "cell_type": "code",
      "source": [
        "data = [1,2,3,4,5]"
      ],
      "metadata": {
        "id": "FwD_JldYJ0Zi"
      },
      "execution_count": null,
      "outputs": []
    },
    {
      "cell_type": "code",
      "source": [
        "resp = map(elevarCuadrado, data)\n",
        "print(list(resp))"
      ],
      "metadata": {
        "colab": {
          "base_uri": "https://localhost:8080/"
        },
        "id": "ArqLlXqVJ1wh",
        "outputId": "4ec4aebc-0adf-4fbd-e9f5-5816ea6edbb1"
      },
      "execution_count": null,
      "outputs": [
        {
          "output_type": "stream",
          "name": "stdout",
          "text": [
            "[1, 4, 9, 16, 25]\n"
          ]
        }
      ]
    },
    {
      "cell_type": "code",
      "source": [
        "resp = map(lambda n:n**2, data)\n",
        "print(list(resp))"
      ],
      "metadata": {
        "colab": {
          "base_uri": "https://localhost:8080/"
        },
        "id": "zx7FxFqPJ7Nl",
        "outputId": "7b2107bb-46da-4acf-a1d8-25bdda64572a"
      },
      "execution_count": null,
      "outputs": [
        {
          "output_type": "stream",
          "name": "stdout",
          "text": [
            "[1, 4, 9, 16, 25]\n"
          ]
        }
      ]
    },
    {
      "cell_type": "code",
      "source": [
        "resp = filter(lambda n:n>2, data)\n",
        "print( list(resp) )"
      ],
      "metadata": {
        "colab": {
          "base_uri": "https://localhost:8080/"
        },
        "id": "jSN45xd5E2Vi",
        "outputId": "f78c3d04-e994-4d44-f52e-bada260bb552"
      },
      "execution_count": null,
      "outputs": [
        {
          "output_type": "stream",
          "name": "stdout",
          "text": [
            "[1]\n"
          ]
        }
      ]
    },
    {
      "cell_type": "code",
      "source": [
        "resp = functools.reduce(lambda a,n:a+n, data)\n",
        "print(resp)"
      ],
      "metadata": {
        "colab": {
          "base_uri": "https://localhost:8080/"
        },
        "id": "e83DxapWFYQp",
        "outputId": "4433b75d-ecdc-4d9b-f1f8-d2bb45140914"
      },
      "execution_count": null,
      "outputs": [
        {
          "output_type": "stream",
          "name": "stdout",
          "text": [
            "15\n"
          ]
        }
      ]
    },
    {
      "cell_type": "markdown",
      "source": [
        "# TUPLAS"
      ],
      "metadata": {
        "id": "XNim_u3pLnAG"
      }
    },
    {
      "cell_type": "code",
      "source": [
        "semana = (\"domingo\", \"lunes\", \"martes\", \"miercoles\", \"jueves\", \"viernes\", \"sabado\")\n",
        "#semana[0] = \"otro\"\n",
        "print( semana.count(\"domingo\") ) #count cuenta el numero de veces que aparece un elemento en la tupla\n",
        "print( len(semana) )"
      ],
      "metadata": {
        "colab": {
          "base_uri": "https://localhost:8080/"
        },
        "id": "WbH4UCu7Lqy2",
        "outputId": "8f6e42c0-b559-4465-8601-e3c89f3577f5"
      },
      "execution_count": null,
      "outputs": [
        {
          "output_type": "stream",
          "name": "stdout",
          "text": [
            "1\n",
            "7\n"
          ]
        }
      ]
    },
    {
      "cell_type": "markdown",
      "source": [
        "# LISTAS => Array"
      ],
      "metadata": {
        "id": "NmzozHJ7L5xx"
      }
    },
    {
      "cell_type": "code",
      "source": [
        "meses = [\"ene\", \"feb\", \"mar\", \"abr\", \"may\", \"jun\", \"jul\", \"ago\", \"sep\", \"oct\", \"nov\", \"dic\"]\n",
        "print( meses[-2:] ) #ultimos dos meses del año\n",
        "print( meses[:2] ) #primero dos meses del año\n",
        "\n",
        "meses[0] = \"enero\"\n",
        "\n",
        "print( meses )"
      ],
      "metadata": {
        "colab": {
          "base_uri": "https://localhost:8080/"
        },
        "id": "RCjkWsCrMDAX",
        "outputId": "9d9731c2-4f0a-4c85-9e0c-26a3122d93b3"
      },
      "execution_count": null,
      "outputs": [
        {
          "output_type": "stream",
          "name": "stdout",
          "text": [
            "['nov', 'dic']\n",
            "['ene', 'feb']\n",
            "['enero', 'feb', 'mar', 'abr', 'may', 'jun', 'jul', 'ago', 'sep', 'oct', 'nov', 'dic']\n"
          ]
        }
      ]
    },
    {
      "cell_type": "code",
      "source": [
        "materias = [ [\"Progra I\", [5,6,8], [8,7,9], [9,10,9] ], [\"Progra II\"] ]\n",
        "print( materias[1][0] )"
      ],
      "metadata": {
        "colab": {
          "base_uri": "https://localhost:8080/"
        },
        "id": "ysokNJBoMPs_",
        "outputId": "dc46f482-90d2-4dc8-a36f-5ee9cc3e9e0a"
      },
      "execution_count": null,
      "outputs": [
        {
          "output_type": "stream",
          "name": "stdout",
          "text": [
            "Progra II\n"
          ]
        }
      ]
    },
    {
      "cell_type": "markdown",
      "source": [
        "# Diccionarios => JSON"
      ],
      "metadata": {
        "id": "uHcUvzHBMZfl"
      }
    },
    {
      "cell_type": "code",
      "source": [
        "materias = {\n",
        "    \"Progra I\": {\n",
        "        \"c1\": {\n",
        "          \"lab1\" : 5,\n",
        "          \"lab2\" : 6,\n",
        "          \"parcial\" : 8\n",
        "      },\n",
        "      \"c2\": {\n",
        "          \"lab1\" : 8,\n",
        "          \"lab2\" : 7,\n",
        "          \"parcial\" : 9\n",
        "      },\n",
        "      \"c3\": {\n",
        "          \"lab1\" : 9,\n",
        "          \"lab2\" : 10,\n",
        "          \"parcial\" : 9\n",
        "      }\n",
        "    },\n",
        "    \"Progra II\" :{\n",
        "\n",
        "    }\n",
        "}\n",
        "print( materias[\"Progra I\"][\"c1\"][\"lab1\"] )"
      ],
      "metadata": {
        "colab": {
          "base_uri": "https://localhost:8080/"
        },
        "id": "gw8phVTmMdCe",
        "outputId": "7b912d38-84cf-4908-f3d1-cb541bc00101"
      },
      "execution_count": null,
      "outputs": [
        {
          "output_type": "stream",
          "name": "stdout",
          "text": [
            "5\n"
          ]
        }
      ]
    },
    {
      "cell_type": "markdown",
      "source": [
        "# LISTAS"
      ],
      "metadata": {
        "id": "9SD-GtTEMiyj"
      }
    },
    {
      "cell_type": "code",
      "source": [
        "data = [2,5,6,8,9]"
      ],
      "metadata": {
        "id": "px4DLHbyMnH0"
      },
      "execution_count": null,
      "outputs": []
    },
    {
      "cell_type": "code",
      "source": [
        "resp = map(lambda n:n**3, data)\n",
        "print(list(resp))"
      ],
      "metadata": {
        "colab": {
          "base_uri": "https://localhost:8080/"
        },
        "id": "kEJv0RXcMtYh",
        "outputId": "8a232787-6cd5-41e3-f6d4-2a446d7cadb3"
      },
      "execution_count": null,
      "outputs": [
        {
          "output_type": "stream",
          "name": "stdout",
          "text": [
            "[8, 125, 216, 512, 729]\n"
          ]
        }
      ]
    },
    {
      "cell_type": "code",
      "source": [
        "f = map(lambda c:c*9/5 + 32, data)\n",
        "print( list(f) )"
      ],
      "metadata": {
        "colab": {
          "base_uri": "https://localhost:8080/"
        },
        "id": "ADyMTY7wMyzj",
        "outputId": "1b4e71d6-5240-4d71-a2df-4712405f076c"
      },
      "execution_count": null,
      "outputs": [
        {
          "output_type": "stream",
          "name": "stdout",
          "text": [
            "[35.6, 41.0, 42.8, 46.4, 48.2]\n"
          ]
        }
      ]
    },
    {
      "cell_type": "markdown",
      "source": [
        "Numeros pares"
      ],
      "metadata": {
        "id": "sfE38NlxM_QO"
      }
    },
    {
      "cell_type": "code",
      "source": [
        "pares = filter(lambda n:n%2==0, data)\n",
        "print( list(pares) )"
      ],
      "metadata": {
        "colab": {
          "base_uri": "https://localhost:8080/"
        },
        "id": "ICQOuouVM3bx",
        "outputId": "50f1ba6e-ddf6-44b4-f76f-25594cc30bf0"
      },
      "execution_count": null,
      "outputs": [
        {
          "output_type": "stream",
          "name": "stdout",
          "text": [
            "[2, 6, 8]\n"
          ]
        }
      ]
    },
    {
      "cell_type": "markdown",
      "source": [
        "Numeros impares"
      ],
      "metadata": {
        "id": "61-89xX2NBV-"
      }
    },
    {
      "cell_type": "code",
      "source": [
        "impares = filter(lambda n:n%2!=0, data)\n",
        "print( list(impares) )"
      ],
      "metadata": {
        "colab": {
          "base_uri": "https://localhost:8080/"
        },
        "id": "omMNMeavM6xB",
        "outputId": "bc7de477-c21a-4018-fd42-424a8a7a75de"
      },
      "execution_count": null,
      "outputs": [
        {
          "output_type": "stream",
          "name": "stdout",
          "text": [
            "[5, 9]\n"
          ]
        }
      ]
    },
    {
      "cell_type": "markdown",
      "source": [
        "# CICLOS\n",
        "\n",
        "1. FOR"
      ],
      "metadata": {
        "id": "4uFLtc8XNHKN"
      }
    },
    {
      "cell_type": "code",
      "source": [
        "for item in data:\n",
        "  print(item)"
      ],
      "metadata": {
        "colab": {
          "base_uri": "https://localhost:8080/"
        },
        "id": "EO6Rl0QXNKZd",
        "outputId": "b480b14d-de54-4403-efff-5b39374f0379"
      },
      "execution_count": null,
      "outputs": [
        {
          "output_type": "stream",
          "name": "stdout",
          "text": [
            "2\n",
            "5\n",
            "6\n",
            "8\n",
            "9\n"
          ]
        }
      ]
    },
    {
      "cell_type": "markdown",
      "source": [
        "2. WHILE"
      ],
      "metadata": {
        "id": "UqrKzjomNd7R"
      }
    },
    {
      "cell_type": "code",
      "source": [
        "i=0\n",
        "n = len(data)\n",
        "while i<n:\n",
        "  print( data[i] )\n",
        "  i+=1"
      ],
      "metadata": {
        "colab": {
          "base_uri": "https://localhost:8080/"
        },
        "id": "O84vNuONNfxF",
        "outputId": "3469933c-7dad-4550-e7d2-c1136ad50aa5"
      },
      "execution_count": null,
      "outputs": [
        {
          "output_type": "stream",
          "name": "stdout",
          "text": [
            "2\n",
            "5\n",
            "6\n",
            "8\n",
            "9\n"
          ]
        }
      ]
    },
    {
      "cell_type": "markdown",
      "source": [
        "# Ejecicio, tabla de multiplicar"
      ],
      "metadata": {
        "id": "0IalXssqNlRL"
      }
    },
    {
      "cell_type": "code",
      "source": [
        "n = int(input(\"N Tabla: \"))\n",
        "\n",
        "for i in range(1,11):\n",
        "  print( n, \"x\", i, \"=\", n*i )"
      ],
      "metadata": {
        "colab": {
          "base_uri": "https://localhost:8080/"
        },
        "id": "tknpro9nNpkZ",
        "outputId": "479c16eb-0fb1-422a-aa38-d63d1b0a45d8"
      },
      "execution_count": null,
      "outputs": [
        {
          "output_type": "stream",
          "name": "stdout",
          "text": [
            "N Tabla: 5\n",
            "5 x 1 = 5\n",
            "5 x 2 = 10\n",
            "5 x 3 = 15\n",
            "5 x 4 = 20\n",
            "5 x 5 = 25\n",
            "5 x 6 = 30\n",
            "5 x 7 = 35\n",
            "5 x 8 = 40\n",
            "5 x 9 = 45\n",
            "5 x 10 = 50\n"
          ]
        }
      ]
    },
    {
      "cell_type": "markdown",
      "source": [
        "# EJECICIO\n",
        "Impuestos sobre renta"
      ],
      "metadata": {
        "id": "oqL43_CSQCBF"
      }
    },
    {
      "cell_type": "code",
      "source": [
        "def sueldo(numHrs, valorXhr):\n",
        "  sueldo = numHrs*valorXhr*30\n",
        "  if(numHrs>8):\n",
        "    sueldo += (numHrs-8)*valorXhr*2*30\n",
        "  return sueldo"
      ],
      "metadata": {
        "id": "ts6zXebMQGr4"
      },
      "execution_count": null,
      "outputs": []
    },
    {
      "cell_type": "code",
      "source": [
        "tabla_isr = [\n",
        "    [0.01,472,0,0],\n",
        "    [472.01, 895.24, 0.1, 17.67],\n",
        "    [895.25, 2038.1, 0.2, 60.00],\n",
        "    [2038.11, 9999999, 0.3, 288.57]\n",
        "]"
      ],
      "metadata": {
        "id": "wpXoewZdQK8c"
      },
      "execution_count": null,
      "outputs": []
    },
    {
      "cell_type": "code",
      "source": [
        "def calcularIsr(sueldo, sueldoNeto):\n",
        "  impSr=0\n",
        "  for tramo in tabla_isr:\n",
        "    if sueldo>tramo[0] and sueldo<=tramo[1]:\n",
        "      impSr = (sueldoNeto-tramo[0])*tramo[2]+ tramo[3]\n",
        "  return impSr"
      ],
      "metadata": {
        "id": "qWDVLspVQNqz"
      },
      "execution_count": null,
      "outputs": []
    },
    {
      "cell_type": "code",
      "source": [
        "valorXhr = 4\n",
        "numHrs = float(input(\"Horas trabajadas: \"))\n",
        "s = sueldo(numHrs,valorXhr)\n",
        "isr= calcularIsr(s,s*0.9075)\n",
        "b = 4\n",
        "print(\"Sueldo: \",s,\"ISR: \",isr, s*0.9075-isr)"
      ],
      "metadata": {
        "colab": {
          "base_uri": "https://localhost:8080/"
        },
        "id": "K4G1AksYQSsT",
        "outputId": "c2d88de4-a85a-44e9-d939-df65a946bd84"
      },
      "execution_count": null,
      "outputs": [
        {
          "output_type": "stream",
          "name": "stdout",
          "text": [
            "Horas trabajadas: 10\n",
            "Sueldo:  1680.0 ISR:  185.87 1338.73\n"
          ]
        }
      ]
    },
    {
      "cell_type": "markdown",
      "source": [
        "# TAREA"
      ],
      "metadata": {
        "id": "DaKpj87bY-78"
      }
    },
    {
      "cell_type": "markdown",
      "source": [
        "Calcular sobre el sueldo las deducciones por ley ISSS (3%), AFP(6.25%), ISR(Según tabla) e imprima el total deducciones y sueldo neto. (20%)"
      ],
      "metadata": {
        "id": "QSQ1PRAgZDpO"
      }
    },
    {
      "cell_type": "code",
      "source": [
        "def calcular_isr(salario_res):\n",
        "    if 472.0 < salario_res <= 895.24:\n",
        "        salario_por = salario_res - 472.0\n",
        "        agre = salario_por * 0.10\n",
        "        isr = agre + 17.67\n",
        "    elif 895.24 < salario_res <= 2038.10:\n",
        "        salario_por = salario_res - 895.24\n",
        "        agre = salario_por * 0.20\n",
        "        isr = agre + 60.00\n",
        "    elif salario_res > 2038.10:\n",
        "        salario_por = salario_res - 2038.10\n",
        "        agre = salario_por * 0.30\n",
        "        isr = agre + 288.57\n",
        "    else:\n",
        "        isr = 0.00\n",
        "    return isr\n",
        "\n",
        "salario = float(input(\"Ingrese su salario: \"))\n",
        "salario_iss = salario * 0.03\n",
        "salario_afp = salario * 0.0625\n",
        "salario_res = salario - salario_iss - salario_afp\n",
        "\n",
        "if salario <= 472.0:\n",
        "    salario_res = salario - salario_iss - salario_afp\n",
        "    print(\"Su salario es:\", salario_res, \"usted no paga renta\")\n",
        "else:\n",
        "    isr = calcular_isr(salario_res)\n",
        "    total_deducciones = salario_iss + salario_afp + isr\n",
        "    sueldo_neto = salario - total_deducciones\n",
        "\n",
        "    print(\"Deducción ISSS: $\", salario_iss)\n",
        "    print(\"Deducción AFP: $\", salario_afp)\n",
        "    print(\"Deducción ISR: $\", isr)\n",
        "    print(\"Total deducciones: $\", total_deducciones)\n",
        "    print(\"Sueldo neto: $\",sueldo_neto)"
      ],
      "metadata": {
        "id": "53oa0dBvZBR1"
      },
      "execution_count": null,
      "outputs": []
    },
    {
      "cell_type": "markdown",
      "source": [
        "Calcular el valor a pagar según el número de metros consumidos de agua potable"
      ],
      "metadata": {
        "id": "vI24-LNYZMO8"
      }
    },
    {
      "cell_type": "code",
      "source": [
        "cobro = float(input(\"Ingrese los mts consumidos: \"))\n",
        "\n",
        "if cobro <= 18:\n",
        "    print(\"Usted pagará: $6\")\n",
        "elif 18 < cobro <= 28:\n",
        "    agregado = cobro - 18\n",
        "    suma = agregado * 0.45\n",
        "    totalpaga = 6 + suma\n",
        "    print(\"El total a pagar es: $\", totalpaga)\n",
        "elif cobro > 28:\n",
        "    exceso = cobro - 28\n",
        "    cargo_exceso = exceso * 0.65\n",
        "    cargo_reducido = 10 * 0.45\n",
        "    total_a_pagar = 6 + cargo_exceso + cargo_reducido\n",
        "    print(\"Total a pagar: $\", total_a_pagar)"
      ],
      "metadata": {
        "colab": {
          "base_uri": "https://localhost:8080/"
        },
        "id": "6uWHX1p4ZPHG",
        "outputId": "4769df12-6354-498c-c3bf-6fa5a915d4ab"
      },
      "execution_count": null,
      "outputs": [
        {
          "output_type": "stream",
          "name": "stdout",
          "text": [
            "Ingrese los mts consumidos: 5\n",
            "Usted pagará: $6\n"
          ]
        }
      ]
    },
    {
      "cell_type": "markdown",
      "source": [
        "Desarrolle la tabla de meses acumulados a n meses. Si puede encontrar la formula matemática para evitar ciclos."
      ],
      "metadata": {
        "id": "AUWmbogDZSYF"
      }
    },
    {
      "cell_type": "code",
      "source": [
        "mes = int(input(\"Escriba cuantos meses va a pagar: \"))\n",
        "def sum(mes):\n",
        "  n = mes\n",
        "  formula = n * (n + 1) / 2\n",
        "  total = formula\n",
        "  print(\"Mes:\", n, \"\\nAcumulado:\", total)\n",
        "\n",
        "sum(mes)"
      ],
      "metadata": {
        "colab": {
          "base_uri": "https://localhost:8080/"
        },
        "id": "Qw-2BPuIZVk2",
        "outputId": "4b2c6b3b-9efe-4f65-a3bd-b6d5bf37eda5"
      },
      "execution_count": null,
      "outputs": [
        {
          "output_type": "stream",
          "name": "stdout",
          "text": [
            "Escriba cuantos meses va a pagar: 7\n",
            "Mes: 7 \n",
            "Acumulado: 28.0\n"
          ]
        }
      ]
    },
    {
      "cell_type": "markdown",
      "source": [
        "Realizar un conversor propio, donde espesifique el valor de conversión:\n",
        " 1 caja -> 25 unidad. Viceversa 80 unidades – 3/5 -> cajas/unidades"
      ],
      "metadata": {
        "id": "MT3bdphmZYdC"
      }
    },
    {
      "cell_type": "code",
      "source": [
        "print(\"Conversor de Cajas y Unidades\")\n",
        "print(\"1. Cajas a Unidades\")\n",
        "print(\"2. Unidades a Cajas\")\n",
        "print(\"\")\n",
        "\n",
        "opcion = int(input(\"Seleccione una opción: \"))\n",
        "print(\"\")\n",
        "\n",
        "if opcion == 1:\n",
        "    cajas = float(input(\"Ingresa la cantidad de cajas: \"))\n",
        "    print(f\"{cajas:.2f} cajas equivalen a {cajas * 25:.2f} unidades.\")\n",
        "elif opcion == 2:\n",
        "    unidades = float(input(\"Ingresa la cantidad de unidades: \"))\n",
        "    cajas, unidades_sobrantes = divmod(unidades, 25)\n",
        "    print(f\"{unidades:.2f} unidades equivalen a {int(cajas)} cajas y {unidades_sobrantes:.2f} unidades.\")\n",
        "else:\n",
        "    print(\"Opción no válida.\")"
      ],
      "metadata": {
        "colab": {
          "base_uri": "https://localhost:8080/"
        },
        "id": "cygTZq53ZcKd",
        "outputId": "a6936ea6-74e8-4195-955b-519766ba0162"
      },
      "execution_count": null,
      "outputs": [
        {
          "output_type": "stream",
          "name": "stdout",
          "text": [
            "Conversor de Cajas y Unidades\n",
            "1. Cajas a Unidades\n",
            "2. Unidades a Cajas\n",
            "\n",
            "Seleccione una opción: 1\n",
            "\n",
            "Ingresa la cantidad de cajas: 5\n",
            "5.00 cajas equivalen a 125.00 unidades.\n"
          ]
        }
      ]
    },
    {
      "cell_type": "markdown",
      "source": [
        "1 saco -> 50 libras. Viceversa 130 libras – 2/30 -> sacos/libras"
      ],
      "metadata": {
        "id": "-fr68HwsZewn"
      }
    },
    {
      "cell_type": "code",
      "source": [
        "print(\"Conversor de Sacos a libras \")\n",
        "print(\"1. Sacos a libras\")\n",
        "print(\"2. Libras a sacos \")\n",
        "print(\"\")\n",
        "\n",
        "opcion = int(input(\"Seleccione una opción: \"))\n",
        "print(\"\")\n",
        "\n",
        "if opcion == 1:\n",
        "    sacos = float(input(\"Ingresa la cantidad de sacos: \"))\n",
        "    print(f\"{sacos:.2f} sacos equivalen a {sacos * 50:.2f} libras.\")\n",
        "elif opcion == 2:\n",
        "    libras = float(input(\"Ingresa la cantidad de unidades: \"))\n",
        "    sacos, libras_sobrantes = divmod(libras, 50)\n",
        "    print(f\"{libras:.2f} libras equivalen a {int(sacos)} sacos y {libras_sobrantes:.2f} libras.\")\n",
        "else:\n",
        "    print(\"Opción no válida.\")"
      ],
      "metadata": {
        "colab": {
          "base_uri": "https://localhost:8080/"
        },
        "id": "5GqwSs2GZh5X",
        "outputId": "09d340f8-4107-4fed-fb85-662a04d75cec"
      },
      "execution_count": null,
      "outputs": [
        {
          "output_type": "stream",
          "name": "stdout",
          "text": [
            "Conversor de Sacos a libras \n",
            "1. Sacos a libras\n",
            "2. Libras a sacos \n",
            "\n",
            "Seleccione una opción: 2\n",
            "\n",
            "Ingresa la cantidad de unidades: 6\n",
            "6.00 libras equivalen a 0 sacos y 6.00 libras.\n"
          ]
        }
      ]
    },
    {
      "cell_type": "markdown",
      "source": [
        "1 fardo -> 5 unidades. Viceversa 28 unidades – 5/3 -> fardos/unidades"
      ],
      "metadata": {
        "id": "Aihrji4KZkpv"
      }
    },
    {
      "cell_type": "code",
      "source": [
        "print(\"Conversor de Cajas y Unidades\")\n",
        "print(\"1.Fardo  a Unidades\")\n",
        "print(\"2. Unidades a Fardo \")\n",
        "print(\"\")\n",
        "\n",
        "opcion = int(input(\"Seleccione una opción: \"))\n",
        "print(\"\")\n",
        "\n",
        "if opcion == 1:\n",
        "    fardo  = float(input(\"Ingresa la cantidad de  fardo : \"))\n",
        "    print(f\"{ fardo :.2f}  fardo  equivalen a { fardo  * 5:.2f} unidades.\")\n",
        "elif opcion == 2:\n",
        "    unidades = float(input(\"Ingresa la cantidad de unidades: \"))\n",
        "    fardo , unidades_sobrantes = divmod(unidades, 5)\n",
        "    print(f\"{unidades:.2f} unidades equivalen a {int( fardo )}  fardo y {unidades_sobrantes:.2f} unidades.\")\n",
        "else:\n",
        "    print(\"Opción no válida.\")"
      ],
      "metadata": {
        "colab": {
          "base_uri": "https://localhost:8080/"
        },
        "id": "I2qZ8rFnZnZx",
        "outputId": "f5551694-d492-4820-c757-f09dfd7ec778"
      },
      "execution_count": null,
      "outputs": [
        {
          "output_type": "stream",
          "name": "stdout",
          "text": [
            "Conversor de Cajas y Unidades\n",
            "1.Fardo  a Unidades\n",
            "2. Unidades a Fardo \n",
            "\n",
            "Seleccione una opción: 2\n",
            "\n",
            "Ingresa la cantidad de unidades: 5\n",
            "5.00 unidades equivalen a 1  fardo y 0.00 unidades.\n"
          ]
        }
      ]
    },
    {
      "cell_type": "markdown",
      "source": [
        "Conversores: (40%) (10 ítems como mínimo por cada uno)\n",
        "• Monedas\n",
        "\n",
        "• Longitud\n",
        "\n",
        "• Masa\n",
        "\n",
        "• Almacenamiento\n",
        "\n",
        "• Tiempo\n",
        "\n",
        "• Volumen\n",
        "\n",
        "• Área"
      ],
      "metadata": {
        "id": "yd-CZdXjafn6"
      }
    },
    {
      "cell_type": "code",
      "source": [
        "def convertir(conversor, de, a, cantidad):\n",
        "  return valores[conversor][a]/ valores [conversor][de] * cantidad"
      ],
      "metadata": {
        "id": "K8U6IIevagTT"
      },
      "execution_count": null,
      "outputs": []
    },
    {
      "cell_type": "code",
      "source": [
        "etiquetas= [\n",
        "\n",
        "[],\n",
        "[\"Seleccione una opcion\", \"1. Dolares\", \"2. Quetzales\", \"3. Lempiras\", \"4. Córdobas\",\"5. Pesos CR\", \"6. Euros\", \"7. Colon SV\", \"8. Yenes\", \"9. Soles, 10. Bolivar\"], #Divisas\n",
        "\n",
        "[\"Seleccione una opcion\", \"1. Metro\", \"2. Milimetro\", \"3. Centimetro\", \"4. Pie\", \"5. Vara\", \"6. Yardas\", \"7. Km\",\"8. Millas\", \"9. Hectómetro\", \"10. Decámetro\"], #Longitud\n",
        "\n",
        "[\"Seleccione una opcion\", \"1. Kilogramo\", \"2. Hectogramo\", \"3. Decagramo\", \"4. Gramo\", \"5. Decigramo\", \"6. Centigramo\", \"7. Miligramo\", \"8. libra\", \"9. Stone\", \"10. Onza\" ], #Masa\n",
        "\n",
        "[\"Seleccione una opcion\", \"1. Byte\", \"2. Kilobyte\", \"3. Megabyte\", \"4. Mebibyte\", \"5. Gigabyte\", \"6. Gibibyte\", \"7. Terabyte\", \"8. Tebibyte\", \"9. Petabyte\", \"10. Pebibyte\"], #Almacenamiento\n",
        "\n",
        "[\"Seleccione una opcion\", \"1. Hora\", \"2. Minutos\", \"3. Segundos\", \"4. Decisegundos\", \"5. Centisegundos\", \"6. Milisegundos\", \"7. Microsegundos\", \"8. Nanosegundos\", \"9. Picosegundos\", \"1. Femtosegundos\"], #Tiempo\n",
        "\n",
        "[\"Selecciona una unidad de medida:\", \"1. Metro cubico\", \"2. Litro\", \"3. Mililitro\", \"4. Galon imperial\", \"5. Cuarto imperial\", \"6. Pinta imperial\", \"7. Taza imperial\", \"8. Onza liquida imperial\", \"9. Cucharada imperial\", \"10. Cucharadita imperial\"], #Volumen\n",
        "\n",
        "[\"Selecciona una unidad de medida:\", \"1. Kilometro cuadrado\", \"2. Metro cuadrado\",\"3. Milla cuadrada\", \"4. Yarda cuadrada\", \"5. Pie cuadrado\", \"6. Pulgada cuadrada\", \"7. Hectarea\", \"8. Acre\", \"9. Tareas\", \"10. Centímetro cuadrado\"] #Area\n",
        "]\n",
        "\n",
        "valores= [\n",
        "    [],\n",
        "[0, 1, 7.86, 24.57, 36.17, 536,73, 0.92, 8.76, 145,87, 3.71, 6.85], #Divisas\n",
        "[0,1,1000,100,3.2808398950131, 1.1963081929167, 1.0936132983377, 0.001, 0.00062137119223733, 0.01, 0.1], #Longitud\n",
        "[0,1,10,100,1000,10000,100000,1000000,2.2046223302272, 0.15747304441777, 35.274], #Masa\n",
        "[0, 1, 0.001, 0.000001, 9.5367431640625E-7, 1.0E-9, 9.3132257461548E-10, 1.0E-12, 9.0949470177293E-13, 1.0000E-15, 8.8817841970013E-16], #Almacenamiento\n",
        "[0,1,60,3600,36000,360000,3600000,3600000000,3600000000000,3600000000000000, 3599999999999999500], #Tiempo\n",
        "[0, 1, 1000, 1000000, 219.96924829909, 879.87699319635 , 1759.7539863927, 3519.5077544697, 35195.079727854, 56312.127564567, 168936.3826937], #Volumen\n",
        "[0, 1, 1.0E-6, 3.8610215854245E-7, 1.1959900463011, 10.76391041671, 1550.0031000062, 0.00159033, 0.00024710538146717, 0.00159033 , 10000] #Area\n",
        "]"
      ],
      "metadata": {
        "id": "Ug7ezorTakK2"
      },
      "execution_count": null,
      "outputs": []
    },
    {
      "cell_type": "code",
      "source": [
        "print (\"***** MENÚ ****\")\n",
        "print (\"1- Divisas\")\n",
        "print (\"2- longitud\")\n",
        "print (\"3- Masas\")\n",
        "print (\"4- Almacenamiento\")\n",
        "print (\"5- Medidas de tiempo\")\n",
        "print (\"6- Volumen \")\n",
        "print (\"7- Area\")\n",
        "print (\" \")\n",
        "opcion= int (input (\"conversor: \"))\n",
        "print (\"Conversor elegido: \", etiquetas[opcion])\n",
        "de= int(input(\"DE: \"))\n",
        "a = int(input(\"A: \"))\n",
        "cantidad = int (input(\"Cantidad: \"))\n",
        "print(\"Conversor de \", etiquetas[opcion][de], \"a\" , etiquetas[opcion][a], \"equivale a \", convertir(opcion, de, a, cantidad))\n"
      ],
      "metadata": {
        "colab": {
          "base_uri": "https://localhost:8080/"
        },
        "id": "JO5uWVQpanTt",
        "outputId": "869d1e0c-99e0-4ad9-8a59-143c3a86f5e7"
      },
      "execution_count": null,
      "outputs": [
        {
          "output_type": "stream",
          "name": "stdout",
          "text": [
            "***** MENÚ ****\n",
            "1- Divisas\n",
            "2- longitud\n",
            "3- Masas\n",
            "4- Almacenamiento\n",
            "5- Medidas de tiempo\n",
            "6- Volumen \n",
            "7- Area\n",
            " \n",
            "conversor: 3\n",
            "Conversor elegido:  ['Seleccione una opcion', '1. Kilogramo', '2. Hectogramo', '3. Decagramo', '4. Gramo', '5. Decigramo', '6. Centigramo', '7. Miligramo', '8. libra', '9. Stone', '10. Onza']\n",
            "DE: 4\n",
            "A: 2\n",
            "Cantidad: 22\n",
            "Conversor de  4. Gramo a 2. Hectogramo equivale a  0.22\n"
          ]
        }
      ]
    },
    {
      "cell_type": "markdown",
      "source": [
        "Escribir un programa que pida la nota de un examen (0-10), e imprima por pantalla la calificacion en formato: \"Suspenso\" si la nota es menor a 5, \"Aprobado\" si es entre 5 inclusive, y 7 sin incluir, \"Notable\" si esta entre 7 inclusive y 9 sin incluir, \"Sobresaliente\" si esta entre 9 inclusive y 10 sin incluir, y \"Honorable\" si es 10"
      ],
      "metadata": {
        "id": "GbO21i4XiyD7"
      }
    },
    {
      "cell_type": "code",
      "source": [
        "nota = float(input(\"Nota: \"))\n",
        "if(nota<0 or nota>10):\n",
        "  print(\"Nota invalida\")\n",
        "elif(nota<5):\n",
        "  print(\"SUPENSO\")\n",
        "elif(nota<7):\n",
        "  print(\"APROBADO\")\n",
        "elif(nota<9):\n",
        "  print(\"NOTABLE\")\n",
        "elif(nota<10):\n",
        "  print(\"SOBRESALIENTE\")\n",
        "else:\n",
        "  print(\"HONORABLE\")"
      ],
      "metadata": {
        "colab": {
          "base_uri": "https://localhost:8080/"
        },
        "id": "YWX165c5izQd",
        "outputId": "1d414efd-2c28-4166-f2dd-a1a140eeffa6"
      },
      "execution_count": null,
      "outputs": [
        {
          "output_type": "stream",
          "name": "stdout",
          "text": [
            "Nota: 6\n",
            "APROBADO\n"
          ]
        }
      ]
    },
    {
      "cell_type": "markdown",
      "source": [
        "**Escriba un programa que muestre la secuencia fibonacci**"
      ],
      "metadata": {
        "id": "9mxIVnCKi6-E"
      }
    },
    {
      "cell_type": "code",
      "source": [
        "limit = int(input(\"Limit: \"))\n",
        "a=0\n",
        "b=1\n",
        "c=0\n",
        "while c<limit:\n",
        "  c=a+b\n",
        "  print(a,\"+\",b,\"=\", c)\n",
        "  b=a\n",
        "  a=c\n"
      ],
      "metadata": {
        "colab": {
          "base_uri": "https://localhost:8080/"
        },
        "id": "J2a4JmSsjGo4",
        "outputId": "b58b23d9-0c84-4b49-e37f-c1f67a8a7653"
      },
      "execution_count": null,
      "outputs": [
        {
          "output_type": "stream",
          "name": "stdout",
          "text": [
            "Limit: 7\n",
            "0 + 1 = 1\n",
            "1 + 0 = 1\n",
            "1 + 1 = 2\n",
            "2 + 1 = 3\n",
            "3 + 2 = 5\n",
            "5 + 3 = 8\n"
          ]
        }
      ]
    },
    {
      "cell_type": "markdown",
      "source": [
        "1. **Escriba un programa que encuentre la media aritmetica de una serie de numeros introducidos por el usuario**\n",
        "2. **Escriba un programa que determine si una palabra introducida por el usuario es palindrome o no, ejm. de palabras palindrome: Ana, oso, oro, etc.**\n",
        "3. Escriba un programa que convierta un numero instroducido por el usuario a su equivalente en numeros romanos. Ejm: 5 -> V"
      ],
      "metadata": {
        "id": "Cq4TO3MLjLl_"
      }
    },
    {
      "cell_type": "markdown",
      "source": [
        "Escriba un programa que convierta un numero instroducido por el usuario a su equivalente en numeros romanos. Ejm: 5 -> V\n",
        "PROGRAMACION ORIENTADA A OBJETOS.\n",
        "\n",
        "CLASE"
      ],
      "metadata": {
        "id": "R5LWSN58jUIb"
      }
    },
    {
      "cell_type": "code",
      "source": [
        "class Calculadora:\n",
        "  def sumar(sefl, num1, num2):\n",
        "    return num1 + num2"
      ],
      "metadata": {
        "id": "56nIEQj-jRko"
      },
      "execution_count": null,
      "outputs": []
    },
    {
      "cell_type": "markdown",
      "source": [
        " INSTANCIA DE UNA CLASE"
      ],
      "metadata": {
        "id": "YTUadS_ijY9i"
      }
    },
    {
      "cell_type": "code",
      "source": [
        "objCalculadora = Calculadora()"
      ],
      "metadata": {
        "id": "yO2126pejdJ6"
      },
      "execution_count": null,
      "outputs": []
    },
    {
      "cell_type": "markdown",
      "source": [
        "OBJETO"
      ],
      "metadata": {
        "id": "u1jbF9IXjf5L"
      }
    },
    {
      "cell_type": "code",
      "source": [
        "print( \"La suma de 5 + 3 = \", objCalculadora.sumar(5,3) )"
      ],
      "metadata": {
        "id": "3klcY0YRjiUK",
        "outputId": "d63cf688-f739-46f8-d5d5-d71fb0e7ff2a",
        "colab": {
          "base_uri": "https://localhost:8080/"
        }
      },
      "execution_count": null,
      "outputs": [
        {
          "output_type": "stream",
          "name": "stdout",
          "text": [
            "La suma de 5 + 3 =  8\n"
          ]
        }
      ]
    },
    {
      "cell_type": "markdown",
      "source": [
        "## Primer parcial\n",
        "# Computo 1"
      ],
      "metadata": {
        "id": "OO8BT-G2QZIq"
      }
    },
    {
      "cell_type": "markdown",
      "source": [
        "Desarrolle el conversor de Área (Superficie) haciendo uso de los diccionarios y las funciones de ususario en Phyton que contenga las siguientes opciones\n",
        "\n",
        "a. Pie cuadrado\n",
        "\n",
        "b. Vara cuadrada\n",
        "\n",
        "c. Yarda cuadrada\n",
        "\n",
        "d. Medio cuadrado\n",
        "\n",
        "e. Tareas\n",
        "\n",
        "f. Manzana\n",
        "\n",
        "g. Hectarea"
      ],
      "metadata": {
        "id": "xYZznou9RuMw"
      }
    },
    {
      "cell_type": "code",
      "source": [
        "medidas=[\"Seleccione una medida\",\"Pie Cuadrado\", \"Vara Cuadrada\", \"Yarda Cuadrada\", \"Metro Cuadrado\", \"Tareas\", \"Manzana\", \"Hectárea\"]\n",
        "\n",
        "valoresm=[1, 0.111111, 0.111111, 0.092903, 0.00404686, 0.000404686, 0.0000092903]\n",
        "\n",
        "def conviert(de, a,cantidad):\n",
        "\n",
        " return valoresm[a]/ valoresm[de]*cantidad"
      ],
      "metadata": {
        "id": "shri-Z1ojS8L"
      },
      "execution_count": null,
      "outputs": []
    },
    {
      "cell_type": "code",
      "source": [
        "print(\"***MENÚ***\")\n",
        "\n",
        "print(\"\\n 1.Pie cuadrado \\n 2. Vara cuadrada \\n 3. Yarda cuadrada \\n 4. Metro cuadrado \\n 5. Tareas \\n 6. Manzanas \\n 7. Hertareas\")\n",
        "\n",
        "de= int(input(\"de:\"))\n",
        "\n",
        "a= int(input(\"A:\"))\n",
        "\n",
        "cantidad= float(input(\"cantidad:\"))\n",
        "\n",
        "print(medidas[de], \"a\", medidas[a],\"quivale a:\", conviert(de,a,cantidad))"
      ],
      "metadata": {
        "colab": {
          "base_uri": "https://localhost:8080/",
          "height": 505
        },
        "id": "dnPWC3lxjYJa",
        "outputId": "f8eab3dd-0782-40ba-9647-c615eb8fb139"
      },
      "execution_count": null,
      "outputs": [
        {
          "name": "stdout",
          "output_type": "stream",
          "text": [
            "***MENÚ***\n",
            "\n",
            " 1.Pie cuadrado \n",
            " 2. Vara cuadrada \n",
            " 3. Yarda cuadrada \n",
            " 4. Metro cuadrado \n",
            " 5. Tareas \n",
            " 6. Manzanas \n",
            " 7. Hertareas\n",
            "de:1\n",
            "A:1\n",
            "cantidad:2\n"
          ]
        },
        {
          "output_type": "error",
          "ename": "NameError",
          "evalue": "ignored",
          "traceback": [
            "\u001b[0;31m---------------------------------------------------------------------------\u001b[0m",
            "\u001b[0;31mNameError\u001b[0m                                 Traceback (most recent call last)",
            "\u001b[0;32m<ipython-input-18-2e6b74a0afa5>\u001b[0m in \u001b[0;36m<cell line: 11>\u001b[0;34m()\u001b[0m\n\u001b[1;32m      9\u001b[0m \u001b[0mcantidad\u001b[0m\u001b[0;34m=\u001b[0m \u001b[0mfloat\u001b[0m\u001b[0;34m(\u001b[0m\u001b[0minput\u001b[0m\u001b[0;34m(\u001b[0m\u001b[0;34m\"cantidad:\"\u001b[0m\u001b[0;34m)\u001b[0m\u001b[0;34m)\u001b[0m\u001b[0;34m\u001b[0m\u001b[0;34m\u001b[0m\u001b[0m\n\u001b[1;32m     10\u001b[0m \u001b[0;34m\u001b[0m\u001b[0m\n\u001b[0;32m---> 11\u001b[0;31m \u001b[0mprint\u001b[0m\u001b[0;34m(\u001b[0m\u001b[0mmedidas\u001b[0m\u001b[0;34m[\u001b[0m\u001b[0mde\u001b[0m\u001b[0;34m]\u001b[0m\u001b[0;34m,\u001b[0m \u001b[0;34m\"a\"\u001b[0m\u001b[0;34m,\u001b[0m \u001b[0mmedidas\u001b[0m\u001b[0;34m[\u001b[0m\u001b[0ma\u001b[0m\u001b[0;34m]\u001b[0m\u001b[0;34m,\u001b[0m\u001b[0;34m\"quivale a:\"\u001b[0m\u001b[0;34m,\u001b[0m \u001b[0mconviert\u001b[0m\u001b[0;34m(\u001b[0m\u001b[0mde\u001b[0m\u001b[0;34m,\u001b[0m\u001b[0ma\u001b[0m\u001b[0;34m,\u001b[0m\u001b[0mcantidad\u001b[0m\u001b[0;34m)\u001b[0m\u001b[0;34m)\u001b[0m\u001b[0;34m\u001b[0m\u001b[0;34m\u001b[0m\u001b[0m\n\u001b[0m",
            "\u001b[0;32m<ipython-input-15-10a4ecfc1b59>\u001b[0m in \u001b[0;36mconviert\u001b[0;34m(de, a, cantidad)\u001b[0m\n\u001b[1;32m      5\u001b[0m \u001b[0;32mdef\u001b[0m \u001b[0mconviert\u001b[0m\u001b[0;34m(\u001b[0m\u001b[0mde\u001b[0m\u001b[0;34m,\u001b[0m \u001b[0ma\u001b[0m\u001b[0;34m,\u001b[0m\u001b[0mcantidad\u001b[0m\u001b[0;34m)\u001b[0m\u001b[0;34m:\u001b[0m\u001b[0;34m\u001b[0m\u001b[0;34m\u001b[0m\u001b[0m\n\u001b[1;32m      6\u001b[0m \u001b[0;34m\u001b[0m\u001b[0m\n\u001b[0;32m----> 7\u001b[0;31m  \u001b[0;32mreturn\u001b[0m \u001b[0mvaloresm\u001b[0m\u001b[0;34m[\u001b[0m\u001b[0ma\u001b[0m\u001b[0;34m]\u001b[0m\u001b[0;34m/\u001b[0m \u001b[0mvaloresm\u001b[0m\u001b[0;34m[\u001b[0m\u001b[0mde\u001b[0m\u001b[0;34m]\u001b[0m\u001b[0;34m*\u001b[0m\u001b[0mcant\u001b[0m\u001b[0;34m\u001b[0m\u001b[0;34m\u001b[0m\u001b[0m\n\u001b[0m",
            "\u001b[0;31mNameError\u001b[0m: name 'cant' is not defined"
          ]
        }
      ]
    }
  ]
}